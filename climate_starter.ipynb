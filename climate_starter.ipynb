{
 "cells": [
  {
   "cell_type": "code",
   "execution_count": 2,
   "metadata": {},
   "outputs": [],
   "source": [
    "%matplotlib inline\n",
    "from matplotlib import style\n",
    "style.use('fivethirtyeight')\n",
    "import matplotlib.pyplot as plt"
   ]
  },
  {
   "cell_type": "code",
   "execution_count": 3,
   "metadata": {},
   "outputs": [],
   "source": [
    "import numpy as np\n",
    "import pandas as pd\n",
    "import datetime as dt"
   ]
  },
  {
   "cell_type": "markdown",
   "metadata": {},
   "source": [
    "# Reflect Tables into SQLAlchemy ORM"
   ]
  },
  {
   "cell_type": "code",
   "execution_count": 32,
   "metadata": {},
   "outputs": [],
   "source": [
    "# Python SQL toolkit and Object Relational Mapper\n",
    "import sqlalchemy\n",
    "from sqlalchemy.ext.automap import automap_base\n",
    "from sqlalchemy.orm import Session\n",
    "from sqlalchemy import create_engine, func, inspect, distinct"
   ]
  },
  {
   "cell_type": "code",
   "execution_count": 5,
   "metadata": {},
   "outputs": [],
   "source": [
    "# create engine to hawaii.sqlite\n",
    "engine = create_engine(\"sqlite:///Resources/hawaii.sqlite\")"
   ]
  },
  {
   "cell_type": "code",
   "execution_count": 6,
   "metadata": {},
   "outputs": [
    {
     "data": {
      "text/plain": [
       "['measurement', 'station']"
      ]
     },
     "execution_count": 6,
     "metadata": {},
     "output_type": "execute_result"
    }
   ],
   "source": [
    "# reflect an existing database into a new model\n",
    "Base = automap_base()\n",
    "Base.prepare(engine, reflect=True)\n",
    "Base.classes.keys()\n",
    "# reflect the tables\n"
   ]
  },
  {
   "cell_type": "code",
   "execution_count": 7,
   "metadata": {},
   "outputs": [],
   "source": [
    "# Save references to each table\n",
    "measurement = Base.classes.measurement\n",
    "station = Base.classes.station\n"
   ]
  },
  {
   "cell_type": "code",
   "execution_count": 8,
   "metadata": {},
   "outputs": [],
   "source": [
    "# Create our session (link) from Python to the DB\n",
    "session = Session(engine)"
   ]
  },
  {
   "cell_type": "markdown",
   "metadata": {},
   "source": [
    "# Exploratory Precipitation Analysis"
   ]
  },
  {
   "cell_type": "code",
   "execution_count": 9,
   "metadata": {},
   "outputs": [
    {
     "data": {
      "text/plain": [
       "('2017-08-23',)"
      ]
     },
     "execution_count": 9,
     "metadata": {},
     "output_type": "execute_result"
    }
   ],
   "source": [
    "# Find the most recent date in the data set.\n",
    "most_recent_date = session.query(measurement.date).order_by(measurement.date.desc()).first()\n",
    "most_recent_date"
   ]
  },
  {
   "cell_type": "code",
   "execution_count": 10,
   "metadata": {},
   "outputs": [
    {
     "data": {
      "text/html": [
       "<div>\n",
       "<style scoped>\n",
       "    .dataframe tbody tr th:only-of-type {\n",
       "        vertical-align: middle;\n",
       "    }\n",
       "\n",
       "    .dataframe tbody tr th {\n",
       "        vertical-align: top;\n",
       "    }\n",
       "\n",
       "    .dataframe thead th {\n",
       "        text-align: right;\n",
       "    }\n",
       "</style>\n",
       "<table border=\"1\" class=\"dataframe\">\n",
       "  <thead>\n",
       "    <tr style=\"text-align: right;\">\n",
       "      <th></th>\n",
       "      <th>PRCP</th>\n",
       "    </tr>\n",
       "    <tr>\n",
       "      <th>Date</th>\n",
       "      <th></th>\n",
       "    </tr>\n",
       "  </thead>\n",
       "  <tbody>\n",
       "    <tr>\n",
       "      <th>2017-04-04</th>\n",
       "      <td>0.00</td>\n",
       "    </tr>\n",
       "    <tr>\n",
       "      <th>2017-03-14</th>\n",
       "      <td>0.00</td>\n",
       "    </tr>\n",
       "    <tr>\n",
       "      <th>2017-03-18</th>\n",
       "      <td>0.00</td>\n",
       "    </tr>\n",
       "    <tr>\n",
       "      <th>2017-03-21</th>\n",
       "      <td>0.00</td>\n",
       "    </tr>\n",
       "    <tr>\n",
       "      <th>2017-03-22</th>\n",
       "      <td>0.00</td>\n",
       "    </tr>\n",
       "    <tr>\n",
       "      <th>...</th>\n",
       "      <td>...</td>\n",
       "    </tr>\n",
       "    <tr>\n",
       "      <th>2016-10-04</th>\n",
       "      <td>3.46</td>\n",
       "    </tr>\n",
       "    <tr>\n",
       "      <th>2017-07-22</th>\n",
       "      <td>4.00</td>\n",
       "    </tr>\n",
       "    <tr>\n",
       "      <th>2017-02-11</th>\n",
       "      <td>5.04</td>\n",
       "    </tr>\n",
       "    <tr>\n",
       "      <th>2017-04-29</th>\n",
       "      <td>6.25</td>\n",
       "    </tr>\n",
       "    <tr>\n",
       "      <th>2016-09-14</th>\n",
       "      <td>6.70</td>\n",
       "    </tr>\n",
       "  </tbody>\n",
       "</table>\n",
       "<p>2009 rows × 1 columns</p>\n",
       "</div>"
      ],
      "text/plain": [
       "            PRCP\n",
       "Date            \n",
       "2017-04-04  0.00\n",
       "2017-03-14  0.00\n",
       "2017-03-18  0.00\n",
       "2017-03-21  0.00\n",
       "2017-03-22  0.00\n",
       "...          ...\n",
       "2016-10-04  3.46\n",
       "2017-07-22  4.00\n",
       "2017-02-11  5.04\n",
       "2017-04-29  6.25\n",
       "2016-09-14  6.70\n",
       "\n",
       "[2009 rows x 1 columns]"
      ]
     },
     "execution_count": 10,
     "metadata": {},
     "output_type": "execute_result"
    }
   ],
   "source": [
    "# Design a query to retrieve the last 12 months of precipitation data and plot the results. \n",
    "# Starting from the most recent data point in the database. \n",
    "# Calculate the date one year from the last date in data set.\n",
    "# Perform a query to retrieve the data and precipitation scores\n",
    "# Save the query results as a Pandas DataFrame and set the index to the date column\n",
    "# Sort the dataframe by date\n",
    "# Use Pandas Plotting with Matplotlib to plot the data\n",
    "\n",
    "year_ago = dt.date(2017, 8, 23) - dt.timedelta(weeks=52)\n",
    "year_ago #2016-8-24\n",
    "\n",
    "year_data = session.query(measurement).filter(measurement.date < dt.date(2016,8,24))\n",
    "\n",
    "end_date = dt.datetime(2017, 8, 23)\n",
    "start_date = dt.datetime(2016, 8, 24)\n",
    "\n",
    "results = session.query(measurement.prcp, \n",
    "                        measurement.date).\\\n",
    "                  filter(measurement.date >= start_date).filter(measurement.date <= end_date).all()\n",
    "\n",
    "precipitation = [{\"Date\": result[1], \"PRCP\": result[0]} for result in results]\n",
    "\n",
    "precip_df = pd.DataFrame(precipitation)\n",
    "\n",
    "unsorted_prcp_df = precip_df.set_index('Date')\n",
    "\n",
    "prcp_df = unsorted_prcp_df.sort_values('PRCP')\n",
    "\n",
    "final_prcp_df = prcp_df.dropna(how= 'any')\n",
    "final_prcp_df"
   ]
  },
  {
   "cell_type": "code",
   "execution_count": 82,
   "metadata": {},
   "outputs": [
    {
     "data": {
      "image/png": "[encoded data removed]",
      "text/plain": [
       "<Figure size 720x432 with 1 Axes>"
      ]
     },
     "metadata": {},
     "output_type": "display_data"
    }
   ],
   "source": [
    "x_values = final_prcp_df.index\n",
    "y_values = final_prcp_df[\"PRCP\"]\n",
    "\n",
    "final_prcp_df.plot(kind='bar', rot = 45, alpha = 0.99, color = 'g', figsize = (10, 6), legend = True)\n",
    "plt.title(\"Precipitation by Day from 2016-08-24 to 2017-08-23\")\n",
    "plt.ylabel(\"Rainfall (Inches)\")\n",
    "plt.xlabel(\"Dates\")\n",
    "plt.tight_layout()\n",
    "# Dear grader, I am sorry this graph looks so terrible, this is due in only a couple minutes and I desperately need sleep\n"
   ]
  },
  {
   "cell_type": "code",
   "execution_count": 13,
   "metadata": {},
   "outputs": [
    {
     "data": {
      "text/html": [
       "<div>\n",
       "<style scoped>\n",
       "    .dataframe tbody tr th:only-of-type {\n",
       "        vertical-align: middle;\n",
       "    }\n",
       "\n",
       "    .dataframe tbody tr th {\n",
       "        vertical-align: top;\n",
       "    }\n",
       "\n",
       "    .dataframe thead th {\n",
       "        text-align: right;\n",
       "    }\n",
       "</style>\n",
       "<table border=\"1\" class=\"dataframe\">\n",
       "  <thead>\n",
       "    <tr style=\"text-align: right;\">\n",
       "      <th></th>\n",
       "      <th>PRCP</th>\n",
       "    </tr>\n",
       "  </thead>\n",
       "  <tbody>\n",
       "    <tr>\n",
       "      <th>count</th>\n",
       "      <td>2009.000000</td>\n",
       "    </tr>\n",
       "    <tr>\n",
       "      <th>mean</th>\n",
       "      <td>0.172344</td>\n",
       "    </tr>\n",
       "    <tr>\n",
       "      <th>std</th>\n",
       "      <td>0.452818</td>\n",
       "    </tr>\n",
       "    <tr>\n",
       "      <th>min</th>\n",
       "      <td>0.000000</td>\n",
       "    </tr>\n",
       "    <tr>\n",
       "      <th>25%</th>\n",
       "      <td>0.000000</td>\n",
       "    </tr>\n",
       "    <tr>\n",
       "      <th>50%</th>\n",
       "      <td>0.020000</td>\n",
       "    </tr>\n",
       "    <tr>\n",
       "      <th>75%</th>\n",
       "      <td>0.130000</td>\n",
       "    </tr>\n",
       "    <tr>\n",
       "      <th>max</th>\n",
       "      <td>6.700000</td>\n",
       "    </tr>\n",
       "  </tbody>\n",
       "</table>\n",
       "</div>"
      ],
      "text/plain": [
       "              PRCP\n",
       "count  2009.000000\n",
       "mean      0.172344\n",
       "std       0.452818\n",
       "min       0.000000\n",
       "25%       0.000000\n",
       "50%       0.020000\n",
       "75%       0.130000\n",
       "max       6.700000"
      ]
     },
     "execution_count": 13,
     "metadata": {},
     "output_type": "execute_result"
    }
   ],
   "source": [
    "# Use Pandas to calcualte the summary statistics for the precipitation data\n",
    "summary_stats = final_prcp_df.describe()\n",
    "summary_stats\n"
   ]
  },
  {
   "cell_type": "markdown",
   "metadata": {},
   "source": [
    "# Exploratory Station Analysis"
   ]
  },
  {
   "cell_type": "code",
   "execution_count": 52,
   "metadata": {},
   "outputs": [
    {
     "name": "stdout",
     "output_type": "stream",
     "text": [
      "There are 19550 available stations in the Measurement dataset.\n"
     ]
    }
   ],
   "source": [
    "# Design a query to calculate the total number stations in the dataset\n",
    "number_of_stations = session.query(measurement.station).count()\n",
    "print(\"There are \" + str(number_of_stations) + \" available stations in the Measurement dataset.\")\n"
   ]
  },
  {
   "cell_type": "code",
   "execution_count": 68,
   "metadata": {},
   "outputs": [
    {
     "data": {
      "text/plain": [
       "[('USC00519281', 2772, 54.0, 85.0, 71.66378066378067),\n",
       " ('USC00519397', 2724, 56.0, 87.0, 74.55323054331865),\n",
       " ('USC00513117', 2709, 59.0, 85.0, 72.68918420081211),\n",
       " ('USC00519523', 2669, 56.0, 85.0, 74.5436493068565),\n",
       " ('USC00516128', 2612, 58.0, 84.0, 70.91500765696784),\n",
       " ('USC00514830', 2202, 58.0, 85.0, 74.8732970027248),\n",
       " ('USC00511918', 1979, 53.0, 87.0, 71.61596766043456),\n",
       " ('USC00517948', 1372, 58.0, 87.0, 74.68440233236151),\n",
       " ('USC00518838', 511, 58.0, 83.0, 72.72407045009784)]"
      ]
     },
     "execution_count": 68,
     "metadata": {},
     "output_type": "execute_result"
    }
   ],
   "source": [
    "# Design a query to find the most active stations (i.e. what stations have the most rows?)\n",
    "# List the stations and the counts in descending order.\n",
    "most_active_stations = session.query(measurement.station, \n",
    "                                            func.count(measurement.station),\n",
    "                                            func.min(measurement.tobs), \n",
    "                                            func.max(measurement.tobs), \n",
    "                                            func.avg(measurement.tobs)).\\\n",
    "                                    group_by(measurement.station).\\\n",
    "                                    order_by(func.count(measurement.station).desc()).all()\n",
    "most_active_stations"
   ]
  },
  {
   "cell_type": "code",
   "execution_count": 54,
   "metadata": {},
   "outputs": [
    {
     "data": {
      "text/plain": [
       "('USC00519281', 2772, 54.0, 85.0, 71.66378066378067)"
      ]
     },
     "execution_count": 54,
     "metadata": {},
     "output_type": "execute_result"
    }
   ],
   "source": [
    "# Using the most active station id from the previous query, calculate the lowest, highest, and average temperature.\n",
    "most_active_stations_stats = session.query(measurement.station, \n",
    "                                            func.count(measurement.station),\n",
    "                                            func.min(measurement.tobs), \n",
    "                                            func.max(measurement.tobs), \n",
    "                                            func.avg(measurement.tobs)).\\\n",
    "                                    group_by(measurement.station).\\\n",
    "                                    order_by(func.count(measurement.station).desc()).first()\n",
    "most_active_stations_stats"
   ]
  },
  {
   "cell_type": "code",
   "execution_count": 73,
   "metadata": {},
   "outputs": [
    {
     "data": {
      "text/plain": [
       "[('2017-08-18', 'USC00519281', 79.0),\n",
       " ('2017-08-17', 'USC00519281', 76.0),\n",
       " ('2017-08-16', 'USC00519281', 76.0),\n",
       " ('2017-08-15', 'USC00519281', 77.0),\n",
       " ('2017-08-14', 'USC00519281', 77.0),\n",
       " ('2017-08-13', 'USC00519281', 77.0),\n",
       " ('2017-08-06', 'USC00519281', 83.0),\n",
       " ('2017-08-05', 'USC00519281', 82.0),\n",
       " ('2017-08-04', 'USC00519281', 77.0),\n",
       " ('2017-07-31', 'USC00519281', 76.0),\n",
       " ('2017-07-30', 'USC00519281', 81.0),\n",
       " ('2017-07-29', 'USC00519281', 82.0),\n",
       " ('2017-07-28', 'USC00519281', 81.0),\n",
       " ('2017-07-27', 'USC00519281', 76.0),\n",
       " ('2017-07-26', 'USC00519281', 75.0),\n",
       " ('2017-07-25', 'USC00519281', 77.0),\n",
       " ('2017-07-24', 'USC00519281', 75.0),\n",
       " ('2017-07-23', 'USC00519281', 82.0),\n",
       " ('2017-07-22', 'USC00519281', 77.0),\n",
       " ('2017-07-21', 'USC00519281', 77.0),\n",
       " ('2017-07-20', 'USC00519281', 77.0),\n",
       " ('2017-07-19', 'USC00519281', 76.0),\n",
       " ('2017-07-18', 'USC00519281', 76.0),\n",
       " ('2017-07-17', 'USC00519281', 76.0),\n",
       " ('2017-07-16', 'USC00519281', 80.0),\n",
       " ('2017-07-15', 'USC00519281', 80.0),\n",
       " ('2017-07-14', 'USC00519281', 76.0),\n",
       " ('2017-07-13', 'USC00519281', 74.0),\n",
       " ('2017-07-12', 'USC00519281', 74.0),\n",
       " ('2017-07-11', 'USC00519281', 72.0),\n",
       " ('2017-07-10', 'USC00519281', 69.0),\n",
       " ('2017-07-09', 'USC00519281', 78.0),\n",
       " ('2017-07-08', 'USC00519281', 78.0),\n",
       " ('2017-07-07', 'USC00519281', 75.0),\n",
       " ('2017-07-06', 'USC00519281', 74.0),\n",
       " ('2017-07-05', 'USC00519281', 77.0),\n",
       " ('2017-07-04', 'USC00519281', 78.0),\n",
       " ('2017-07-03', 'USC00519281', 76.0),\n",
       " ('2017-07-02', 'USC00519281', 81.0),\n",
       " ('2017-07-01', 'USC00519281', 79.0),\n",
       " ('2017-06-30', 'USC00519281', 76.0),\n",
       " ('2017-06-29', 'USC00519281', 76.0),\n",
       " ('2017-06-28', 'USC00519281', 77.0),\n",
       " ('2017-06-27', 'USC00519281', 76.0),\n",
       " ('2017-06-26', 'USC00519281', 73.0),\n",
       " ('2017-06-25', 'USC00519281', 71.0),\n",
       " ('2017-06-24', 'USC00519281', 77.0),\n",
       " ('2017-06-23', 'USC00519281', 72.0),\n",
       " ('2017-06-22', 'USC00519281', 72.0),\n",
       " ('2017-06-21', 'USC00519281', 74.0),\n",
       " ('2017-06-20', 'USC00519281', 72.0),\n",
       " ('2017-06-19', 'USC00519281', 72.0),\n",
       " ('2017-06-18', 'USC00519281', 75.0),\n",
       " ('2017-06-17', 'USC00519281', 79.0),\n",
       " ('2017-06-16', 'USC00519281', 73.0),\n",
       " ('2017-06-15', 'USC00519281', 75.0),\n",
       " ('2017-06-14', 'USC00519281', 74.0),\n",
       " ('2017-06-13', 'USC00519281', 76.0),\n",
       " ('2017-06-12', 'USC00519281', 74.0),\n",
       " ('2017-06-11', 'USC00519281', 74.0),\n",
       " ('2017-06-10', 'USC00519281', 74.0),\n",
       " ('2017-06-09', 'USC00519281', 72.0),\n",
       " ('2017-06-08', 'USC00519281', 75.0),\n",
       " ('2017-06-07', 'USC00519281', 75.0),\n",
       " ('2017-06-06', 'USC00519281', 75.0),\n",
       " ('2017-06-05', 'USC00519281', 75.0),\n",
       " ('2017-06-04', 'USC00519281', 77.0),\n",
       " ('2017-06-03', 'USC00519281', 76.0),\n",
       " ('2017-06-02', 'USC00519281', 76.0),\n",
       " ('2017-06-01', 'USC00519281', 80.0),\n",
       " ('2017-05-31', 'USC00519281', 75.0),\n",
       " ('2017-05-30', 'USC00519281', 72.0),\n",
       " ('2017-05-29', 'USC00519281', 74.0),\n",
       " ('2017-05-28', 'USC00519281', 80.0),\n",
       " ('2017-05-27', 'USC00519281', 74.0),\n",
       " ('2017-05-26', 'USC00519281', 74.0),\n",
       " ('2017-05-25', 'USC00519281', 74.0),\n",
       " ('2017-05-24', 'USC00519281', 74.0),\n",
       " ('2017-05-23', 'USC00519281', 71.0),\n",
       " ('2017-05-22', 'USC00519281', 71.0),\n",
       " ('2017-05-21', 'USC00519281', 74.0),\n",
       " ('2017-05-20', 'USC00519281', 76.0),\n",
       " ('2017-05-19', 'USC00519281', 68.0),\n",
       " ('2017-05-18', 'USC00519281', 69.0),\n",
       " ('2017-05-17', 'USC00519281', 74.0),\n",
       " ('2017-05-16', 'USC00519281', 74.0),\n",
       " ('2017-05-15', 'USC00519281', 74.0),\n",
       " ('2017-05-14', 'USC00519281', 77.0),\n",
       " ('2017-05-13', 'USC00519281', 76.0),\n",
       " ('2017-05-12', 'USC00519281', 75.0),\n",
       " ('2017-05-11', 'USC00519281', 70.0),\n",
       " ('2017-05-10', 'USC00519281', 74.0),\n",
       " ('2017-05-09', 'USC00519281', 67.0),\n",
       " ('2017-05-08', 'USC00519281', 70.0),\n",
       " ('2017-05-07', 'USC00519281', 75.0),\n",
       " ('2017-05-06', 'USC00519281', 79.0),\n",
       " ('2017-05-05', 'USC00519281', 70.0),\n",
       " ('2017-05-04', 'USC00519281', 75.0),\n",
       " ('2017-05-03', 'USC00519281', 70.0),\n",
       " ('2017-05-02', 'USC00519281', 75.0),\n",
       " ('2017-05-01', 'USC00519281', 65.0),\n",
       " ('2017-04-30', 'USC00519281', 60.0),\n",
       " ('2017-04-29', 'USC00519281', 72.0),\n",
       " ('2017-04-28', 'USC00519281', 67.0),\n",
       " ('2017-04-27', 'USC00519281', 70.0),\n",
       " ('2017-04-26', 'USC00519281', 74.0),\n",
       " ('2017-04-25', 'USC00519281', 72.0),\n",
       " ('2017-04-24', 'USC00519281', 68.0),\n",
       " ('2017-04-23', 'USC00519281', 76.0),\n",
       " ('2017-04-22', 'USC00519281', 72.0),\n",
       " ('2017-04-21', 'USC00519281', 69.0),\n",
       " ('2017-04-20', 'USC00519281', 76.0),\n",
       " ('2017-04-19', 'USC00519281', 67.0),\n",
       " ('2017-04-18', 'USC00519281', 68.0),\n",
       " ('2017-04-17', 'USC00519281', 67.0),\n",
       " ('2017-04-16', 'USC00519281', 71.0),\n",
       " ('2017-04-15', 'USC00519281', 78.0),\n",
       " ('2017-04-14', 'USC00519281', 74.0),\n",
       " ('2017-04-13', 'USC00519281', 69.0),\n",
       " ('2017-04-12', 'USC00519281', 69.0),\n",
       " ('2017-04-11', 'USC00519281', 70.0),\n",
       " ('2017-04-10', 'USC00519281', 67.0),\n",
       " ('2017-04-09', 'USC00519281', 78.0),\n",
       " ('2017-04-08', 'USC00519281', 77.0),\n",
       " ('2017-04-07', 'USC00519281', 74.0),\n",
       " ('2017-04-06', 'USC00519281', 67.0),\n",
       " ('2017-04-05', 'USC00519281', 71.0),\n",
       " ('2017-04-04', 'USC00519281', 67.0),\n",
       " ('2017-04-03', 'USC00519281', 70.0),\n",
       " ('2017-04-02', 'USC00519281', 75.0),\n",
       " ('2017-04-01', 'USC00519281', 74.0),\n",
       " ('2017-03-31', 'USC00519281', 71.0),\n",
       " ('2017-03-30', 'USC00519281', 73.0),\n",
       " ('2017-03-29', 'USC00519281', 68.0),\n",
       " ('2017-03-28', 'USC00519281', 74.0),\n",
       " ('2017-03-27', 'USC00519281', 76.0),\n",
       " ('2017-03-26', 'USC00519281', 77.0),\n",
       " ('2017-03-25', 'USC00519281', 76.0),\n",
       " ('2017-03-24', 'USC00519281', 71.0),\n",
       " ('2017-03-23', 'USC00519281', 72.0),\n",
       " ('2017-03-22', 'USC00519281', 73.0),\n",
       " ('2017-03-21', 'USC00519281', 72.0),\n",
       " ('2017-03-20', 'USC00519281', 69.0),\n",
       " ('2017-03-19', 'USC00519281', 74.0),\n",
       " ('2017-03-18', 'USC00519281', 65.0),\n",
       " ('2017-03-17', 'USC00519281', 68.0),\n",
       " ('2017-03-16', 'USC00519281', 66.0),\n",
       " ('2017-03-15', 'USC00519281', 69.0),\n",
       " ('2017-03-14', 'USC00519281', 67.0),\n",
       " ('2017-03-13', 'USC00519281', 66.0),\n",
       " ('2017-03-12', 'USC00519281', 69.0),\n",
       " ('2017-03-11', 'USC00519281', 81.0),\n",
       " ('2017-03-10', 'USC00519281', 66.0),\n",
       " ('2017-03-09', 'USC00519281', 67.0),\n",
       " ('2017-03-08', 'USC00519281', 64.0),\n",
       " ('2017-03-07', 'USC00519281', 62.0),\n",
       " ('2017-03-06', 'USC00519281', 67.0),\n",
       " ('2017-03-05', 'USC00519281', 73.0),\n",
       " ('2017-03-04', 'USC00519281', 77.0),\n",
       " ('2017-03-03', 'USC00519281', 72.0),\n",
       " ('2017-03-02', 'USC00519281', 73.0),\n",
       " ('2017-03-01', 'USC00519281', 71.0),\n",
       " ('2017-02-28', 'USC00519281', 72.0),\n",
       " ('2017-02-27', 'USC00519281', 65.0),\n",
       " ('2017-02-26', 'USC00519281', 67.0),\n",
       " ('2017-02-25', 'USC00519281', 61.0),\n",
       " ('2017-02-24', 'USC00519281', 69.0),\n",
       " ('2017-02-23', 'USC00519281', 71.0),\n",
       " ('2017-02-22', 'USC00519281', 71.0),\n",
       " ('2017-02-21', 'USC00519281', 71.0),\n",
       " ('2017-02-20', 'USC00519281', 70.0),\n",
       " ('2017-02-19', 'USC00519281', 70.0),\n",
       " ('2017-02-18', 'USC00519281', 74.0),\n",
       " ('2017-02-17', 'USC00519281', 70.0),\n",
       " ('2017-02-16', 'USC00519281', 65.0),\n",
       " ('2017-02-15', 'USC00519281', 75.0),\n",
       " ('2017-02-14', 'USC00519281', 79.0),\n",
       " ('2017-02-13', 'USC00519281', 73.0),\n",
       " ('2017-02-12', 'USC00519281', 70.0),\n",
       " ('2017-02-11', 'USC00519281', 68.0),\n",
       " ('2017-02-10', 'USC00519281', 62.0),\n",
       " ('2017-02-09', 'USC00519281', 59.0),\n",
       " ('2017-02-08', 'USC00519281', 59.0),\n",
       " ('2017-02-07', 'USC00519281', 64.0),\n",
       " ('2017-02-06', 'USC00519281', 75.0),\n",
       " ('2017-02-05', 'USC00519281', 73.0),\n",
       " ('2017-02-04', 'USC00519281', 70.0),\n",
       " ('2017-02-03', 'USC00519281', 60.0),\n",
       " ('2017-02-02', 'USC00519281', 59.0),\n",
       " ('2017-02-01', 'USC00519281', 68.0),\n",
       " ('2017-01-31', 'USC00519281', 68.0),\n",
       " ('2017-01-30', 'USC00519281', 68.0),\n",
       " ('2017-01-29', 'USC00519281', 69.0),\n",
       " ('2017-01-28', 'USC00519281', 65.0),\n",
       " ('2017-01-27', 'USC00519281', 66.0),\n",
       " ('2017-01-26', 'USC00519281', 70.0),\n",
       " ('2017-01-25', 'USC00519281', 69.0),\n",
       " ('2017-01-24', 'USC00519281', 72.0),\n",
       " ('2017-01-23', 'USC00519281', 72.0),\n",
       " ('2017-01-22', 'USC00519281', 71.0),\n",
       " ('2017-01-21', 'USC00519281', 71.0),\n",
       " ('2017-01-20', 'USC00519281', 69.0),\n",
       " ('2017-01-19', 'USC00519281', 71.0),\n",
       " ('2017-01-18', 'USC00519281', 72.0),\n",
       " ('2017-01-17', 'USC00519281', 69.0),\n",
       " ('2017-01-16', 'USC00519281', 74.0),\n",
       " ('2017-01-15', 'USC00519281', 70.0),\n",
       " ('2017-01-14', 'USC00519281', 77.0),\n",
       " ('2017-01-13', 'USC00519281', 69.0),\n",
       " ('2017-01-12', 'USC00519281', 65.0),\n",
       " ('2017-01-11', 'USC00519281', 63.0),\n",
       " ('2017-01-10', 'USC00519281', 62.0),\n",
       " ('2017-01-09', 'USC00519281', 62.0),\n",
       " ('2017-01-08', 'USC00519281', 70.0),\n",
       " ('2017-01-07', 'USC00519281', 70.0),\n",
       " ('2017-01-06', 'USC00519281', 62.0),\n",
       " ('2017-01-05', 'USC00519281', 63.0),\n",
       " ('2017-01-04', 'USC00519281', 63.0),\n",
       " ('2017-01-03', 'USC00519281', 64.0),\n",
       " ('2017-01-02', 'USC00519281', 70.0),\n",
       " ('2017-01-01', 'USC00519281', 72.0),\n",
       " ('2016-12-31', 'USC00519281', 67.0),\n",
       " ('2016-12-30', 'USC00519281', 69.0),\n",
       " ('2016-12-29', 'USC00519281', 74.0),\n",
       " ('2016-12-28', 'USC00519281', 72.0),\n",
       " ('2016-12-27', 'USC00519281', 71.0),\n",
       " ('2016-12-26', 'USC00519281', 72.0),\n",
       " ('2016-12-25', 'USC00519281', 74.0),\n",
       " ('2016-12-24', 'USC00519281', 74.0),\n",
       " ('2016-12-23', 'USC00519281', 71.0),\n",
       " ('2016-12-22', 'USC00519281', 73.0),\n",
       " ('2016-12-21', 'USC00519281', 74.0),\n",
       " ('2016-12-20', 'USC00519281', 76.0),\n",
       " ('2016-12-19', 'USC00519281', 76.0),\n",
       " ('2016-12-18', 'USC00519281', 69.0),\n",
       " ('2016-12-17', 'USC00519281', 70.0),\n",
       " ('2016-12-16', 'USC00519281', 75.0),\n",
       " ('2016-12-15', 'USC00519281', 62.0),\n",
       " ('2016-12-14', 'USC00519281', 68.0),\n",
       " ('2016-12-13', 'USC00519281', 65.0),\n",
       " ('2016-12-12', 'USC00519281', 66.0),\n",
       " ('2016-12-11', 'USC00519281', 69.0),\n",
       " ('2016-12-10', 'USC00519281', 69.0),\n",
       " ('2016-12-09', 'USC00519281', 68.0),\n",
       " ('2016-12-08', 'USC00519281', 70.0),\n",
       " ('2016-12-07', 'USC00519281', 69.0),\n",
       " ('2016-12-06', 'USC00519281', 67.0),\n",
       " ('2016-12-05', 'USC00519281', 67.0),\n",
       " ('2016-12-04', 'USC00519281', 70.0),\n",
       " ('2016-12-03', 'USC00519281', 72.0),\n",
       " ('2016-12-02', 'USC00519281', 70.0),\n",
       " ('2016-12-01', 'USC00519281', 74.0),\n",
       " ('2016-11-30', 'USC00519281', 73.0),\n",
       " ('2016-11-29', 'USC00519281', 73.0),\n",
       " ('2016-11-28', 'USC00519281', 75.0),\n",
       " ('2016-11-27', 'USC00519281', 73.0),\n",
       " ('2016-11-26', 'USC00519281', 75.0),\n",
       " ('2016-11-25', 'USC00519281', 74.0),\n",
       " ('2016-11-24', 'USC00519281', 75.0),\n",
       " ('2016-11-23', 'USC00519281', 74.0),\n",
       " ('2016-11-22', 'USC00519281', 75.0),\n",
       " ('2016-11-21', 'USC00519281', 73.0),\n",
       " ('2016-11-20', 'USC00519281', 75.0),\n",
       " ('2016-11-19', 'USC00519281', 73.0),\n",
       " ('2016-11-18', 'USC00519281', 75.0),\n",
       " ('2016-11-17', 'USC00519281', 76.0),\n",
       " ('2016-11-16', 'USC00519281', 75.0),\n",
       " ('2016-11-15', 'USC00519281', 76.0),\n",
       " ('2016-11-14', 'USC00519281', 76.0),\n",
       " ('2016-11-13', 'USC00519281', 77.0),\n",
       " ('2016-11-12', 'USC00519281', 74.0),\n",
       " ('2016-11-11', 'USC00519281', 77.0),\n",
       " ('2016-11-10', 'USC00519281', 67.0),\n",
       " ('2016-11-09', 'USC00519281', 68.0),\n",
       " ('2016-11-08', 'USC00519281', 70.0),\n",
       " ('2016-11-07', 'USC00519281', 63.0),\n",
       " ('2016-11-06', 'USC00519281', 71.0),\n",
       " ('2016-11-05', 'USC00519281', 75.0),\n",
       " ('2016-11-04', 'USC00519281', 75.0),\n",
       " ('2016-11-03', 'USC00519281', 75.0),\n",
       " ('2016-11-02', 'USC00519281', 75.0),\n",
       " ('2016-11-01', 'USC00519281', 74.0),\n",
       " ('2016-10-31', 'USC00519281', 76.0),\n",
       " ('2016-10-30', 'USC00519281', 76.0),\n",
       " ('2016-10-29', 'USC00519281', 77.0),\n",
       " ('2016-10-28', 'USC00519281', 74.0),\n",
       " ('2016-10-27', 'USC00519281', 76.0),\n",
       " ('2016-10-26', 'USC00519281', 73.0),\n",
       " ('2016-10-25', 'USC00519281', 76.0),\n",
       " ('2016-10-24', 'USC00519281', 75.0),\n",
       " ('2016-10-23', 'USC00519281', 74.0),\n",
       " ('2016-10-22', 'USC00519281', 77.0),\n",
       " ('2016-10-21', 'USC00519281', 78.0),\n",
       " ('2016-10-20', 'USC00519281', 78.0),\n",
       " ('2016-10-19', 'USC00519281', 78.0),\n",
       " ('2016-10-18', 'USC00519281', 78.0),\n",
       " ('2016-10-17', 'USC00519281', 77.0),\n",
       " ('2016-10-16', 'USC00519281', 79.0),\n",
       " ('2016-10-15', 'USC00519281', 77.0),\n",
       " ('2016-10-14', 'USC00519281', 79.0),\n",
       " ('2016-10-13', 'USC00519281', 78.0),\n",
       " ('2016-10-12', 'USC00519281', 79.0),\n",
       " ('2016-10-11', 'USC00519281', 77.0),\n",
       " ('2016-10-10', 'USC00519281', 71.0),\n",
       " ('2016-10-09', 'USC00519281', 72.0),\n",
       " ('2016-10-08', 'USC00519281', 73.0),\n",
       " ('2016-10-07', 'USC00519281', 76.0),\n",
       " ('2016-10-06', 'USC00519281', 75.0),\n",
       " ('2016-10-05', 'USC00519281', 79.0),\n",
       " ('2016-10-04', 'USC00519281', 79.0),\n",
       " ('2016-10-03', 'USC00519281', 79.0),\n",
       " ('2016-10-02', 'USC00519281', 79.0),\n",
       " ('2016-10-01', 'USC00519281', 77.0),\n",
       " ('2016-09-30', 'USC00519281', 78.0),\n",
       " ('2016-09-29', 'USC00519281', 78.0),\n",
       " ('2016-09-28', 'USC00519281', 78.0),\n",
       " ('2016-09-27', 'USC00519281', 80.0),\n",
       " ('2016-09-26', 'USC00519281', 77.0),\n",
       " ('2016-09-25', 'USC00519281', 79.0),\n",
       " ('2016-09-24', 'USC00519281', 79.0),\n",
       " ('2016-09-23', 'USC00519281', 78.0),\n",
       " ('2016-09-22', 'USC00519281', 77.0),\n",
       " ('2016-09-21', 'USC00519281', 74.0),\n",
       " ('2016-09-20', 'USC00519281', 76.0),\n",
       " ('2016-09-19', 'USC00519281', 78.0),\n",
       " ('2016-09-18', 'USC00519281', 78.0),\n",
       " ('2016-09-17', 'USC00519281', 79.0),\n",
       " ('2016-09-16', 'USC00519281', 78.0),\n",
       " ('2016-09-15', 'USC00519281', 79.0),\n",
       " ('2016-09-14', 'USC00519281', 75.0),\n",
       " ('2016-09-13', 'USC00519281', 79.0),\n",
       " ('2016-09-12', 'USC00519281', 76.0),\n",
       " ('2016-09-11', 'USC00519281', 80.0),\n",
       " ('2016-09-10', 'USC00519281', 77.0),\n",
       " ('2016-09-09', 'USC00519281', 79.0),\n",
       " ('2016-09-08', 'USC00519281', 80.0),\n",
       " ('2016-09-07', 'USC00519281', 74.0),\n",
       " ('2016-09-06', 'USC00519281', 73.0),\n",
       " ('2016-09-05', 'USC00519281', 78.0),\n",
       " ('2016-09-04', 'USC00519281', 78.0),\n",
       " ('2016-09-03', 'USC00519281', 78.0),\n",
       " ('2016-09-02', 'USC00519281', 80.0),\n",
       " ('2016-09-01', 'USC00519281', 80.0),\n",
       " ('2016-08-31', 'USC00519281', 78.0),\n",
       " ('2016-08-30', 'USC00519281', 77.0),\n",
       " ('2016-08-29', 'USC00519281', 78.0),\n",
       " ('2016-08-28', 'USC00519281', 73.0),\n",
       " ('2016-08-27', 'USC00519281', 75.0),\n",
       " ('2016-08-26', 'USC00519281', 80.0),\n",
       " ('2016-08-25', 'USC00519281', 80.0),\n",
       " ('2016-08-24', 'USC00519281', 77.0)]"
      ]
     },
     "execution_count": 73,
     "metadata": {},
     "output_type": "execute_result"
    }
   ],
   "source": [
    "# Using the most active station id\n",
    "# Query the last 12 months of temperature observation data for this station and plot the results as a histogram\n",
    "twelve_months = session.query(measurement.date, measurement.station, measurement.tobs).\\\n",
    "filter(measurement.date >= '2016-08-24').\\\n",
    "filter(measurement.station == 'USC00519281').\\\n",
    "    order_by(measurement.date.desc()).all()\n",
    "    \n",
    "twelve_months"
   ]
  },
  {
   "cell_type": "code",
   "execution_count": 77,
   "metadata": {},
   "outputs": [
    {
     "data": {
      "image/png": "[encoded data removed]",
      "text/plain": [
       "<Figure size 864x432 with 1 Axes>"
      ]
     },
     "metadata": {},
     "output_type": "display_data"
    }
   ],
   "source": [
    "twelve_months_df = pd.DataFrame(twelve_months)\n",
    "\n",
    "twelve_months_df.plot.hist(bins=12, figsize = (12, 6), color = 'b', legend = False)\n",
    "plt.title(\"Last 12 Months Temperature Frequency of Station USC00519281\", fontsize = 25, fontweight = 'bold')\n",
    "plt.xlabel(\"Temperature\")\n",
    "plt.ylabel(\"Count\")\n",
    "plt.show()"
   ]
  },
  {
   "cell_type": "markdown",
   "metadata": {},
   "source": [
    "# Close session"
   ]
  },
  {
   "cell_type": "code",
   "execution_count": 78,
   "metadata": {},
   "outputs": [],
   "source": [
    "# Close Session\n",
    "session.close()"
   ]
  },
  {
   "cell_type": "code",
   "execution_count": null,
   "metadata": {},
   "outputs": [],
   "source": []
  }
 ],
 "metadata": {
  "anaconda-cloud": {},
  "kernel_info": {
   "name": "python3"
  },
  "kernelspec": {
   "display_name": "Python 3",
   "language": "python",
   "name": "python3"
  },
  "language_info": {
   "codemirror_mode": {
    "name": "ipython",
    "version": 3
   },
   "file_extension": ".py",
   "mimetype": "text/x-python",
   "name": "python",
   "nbconvert_exporter": "python",
   "pygments_lexer": "ipython3",
   "version": "3.7.10"
  },
  "nteract": {
   "version": "0.12.3"
  },
  "varInspector": {
   "cols": {
    "lenName": 16,
    "lenType": 16,
    "lenVar": 40
   },
   "kernels_config": {
    "python": {
     "delete_cmd_postfix": "",
     "delete_cmd_prefix": "del ",
     "library": "var_list.py",
     "varRefreshCmd": "print(var_dic_list())"
    },
    "r": {
     "delete_cmd_postfix": ") ",
     "delete_cmd_prefix": "rm(",
     "library": "var_list.r",
     "varRefreshCmd": "cat(var_dic_list()) "
    }
   },
   "types_to_exclude": [
    "module",
    "function",
    "builtin_function_or_method",
    "instance",
    "_Feature"
   ],
   "window_display": false
  }
 },
 "nbformat": 4,
 "nbformat_minor": 2
}
