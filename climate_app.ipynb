{
 "cells": [
  {
   "cell_type": "code",
   "execution_count": 1,
   "id": "6dd4ae76",
   "metadata": {},
   "outputs": [],
   "source": [
    "import numpy as np\n",
    "import os\n",
    "import sqlalchemy\n",
    "from sqlalchemy.ext.automap import automap_base\n",
    "from sqlalchemy.orm import Session\n",
    "from sqlalchemy import create_engine, func\n",
    "\n",
    "from flask import Flask, jsonify"
   ]
  },
  {
   "cell_type": "code",
   "execution_count": 5,
   "id": "d25af5cb",
   "metadata": {},
   "outputs": [],
   "source": [
    "engine = create_engine(\"sqlite:///Resources/hawaii.sqlite\")"
   ]
  },
  {
   "cell_type": "code",
   "execution_count": 6,
   "id": "13d18bc8",
   "metadata": {},
   "outputs": [],
   "source": [
    "Base = automap_base()"
   ]
  },
  {
   "cell_type": "code",
   "execution_count": 7,
   "id": "bda0c65c",
   "metadata": {},
   "outputs": [],
   "source": [
    "Base.prepare(engine, reflect=True)"
   ]
  },
  {
   "cell_type": "code",
   "execution_count": 8,
   "id": "b4ba8450",
   "metadata": {},
   "outputs": [],
   "source": [
    "Measurement = Base.classes.measurement\n",
    "Station = Base.classes.station"
   ]
  },
  {
   "cell_type": "code",
   "execution_count": 9,
   "id": "a75d6c44",
   "metadata": {},
   "outputs": [],
   "source": [
    "session = Session(engine)\n",
    "app = Flask(__name__)"
   ]
  },
  {
   "cell_type": "code",
   "execution_count": 10,
   "id": "0da42137",
   "metadata": {},
   "outputs": [],
   "source": [
    "@app.route(\"/\")\n",
    "def welcome():\n",
    "    \"\"\"List all available api routes.\"\"\"\n",
    "    return (\n",
    "        f\"Available Routes:<br/>\"\n",
    "        f\"/api/v1.0/precipitation<br/>\"\n",
    "        f\"/api/v1.0/stations<br/>\"\n",
    "        f\"/api/v1.0/tobs<br/>\"\n",
    "        f\"/api/v1.0/start/end\"\n",
    "    )"
   ]
  },
  {
   "cell_type": "code",
   "execution_count": 11,
   "id": "dfa3a3b1",
   "metadata": {},
   "outputs": [],
   "source": [
    "@app.route(\"/api/v1.0/precipitation\")\n",
    "def precipitation():\n",
    "    session = Session(engine)\n",
    "\n",
    "    results = session.query(Measurement.date, Measurement.prcp).all()\n",
    "\n",
    "    session.close()\n",
    "\n",
    "    all_precipitation = []\n",
    "    for date, prcp in results:\n",
    "        precipitation_dict = {date : prcp}\n",
    "        precipitation_dict[\"date\"] = date\n",
    "        precipitation_dict[\"prcp\"] = prcp\n",
    "        all_precipitation.append(precipitation_dict)\n",
    "\n",
    "    return jsonify(all_precipitation)"
   ]
  },
  {
   "cell_type": "code",
   "execution_count": 12,
   "id": "f0cad74d",
   "metadata": {},
   "outputs": [],
   "source": [
    "@app.route(\"/api/v1.0/stations\")\n",
    "def stations():\n",
    "    session = Session(engine)\n",
    "\n",
    "    # Query all stations\n",
    "    results = session.query(Station.station).all()\n",
    "\n",
    "    session.close()\n",
    "    \n",
    "    all_stations = list(np.ravel(results))\n",
    "\n",
    "    return jsonify(all_stations)"
   ]
  },
  {
   "cell_type": "code",
   "execution_count": 13,
   "id": "e1e01e62",
   "metadata": {},
   "outputs": [],
   "source": [
    "@app.route(\"/api/v1.0/tobs\")\n",
    "def tobs():\n",
    "    # Create our session (link) from Python to the DB\n",
    "    session = Session(engine)\n",
    "\n",
    "    most_active_station = session.query(Measurement.station, func.count(Measurement.tobs)).\\\n",
    "    group_by(Measurement.station).\\\n",
    "    order_by(func.count(Measurement.tobs).desc()).first()\n",
    "\n",
    "    session.close()\n",
    "    \n",
    "    full_year = session.query(Measurement.date, Measurement.station, Measurement.tobs).\\\n",
    "    filter(Measurement.date >= '2016-08-24').\\\n",
    "    filter(Measurement.station == most_active_station[0]).\\\n",
    "    group_by(Measurement.date).\\\n",
    "    order_by(Measurement.date.desc()).all()\n",
    "\n",
    "    return jsonify(full_year)"
   ]
  },
  {
   "cell_type": "code",
   "execution_count": 14,
   "id": "714415aa",
   "metadata": {},
   "outputs": [],
   "source": [
    "@app.route(\"/api/v1.0/start/end\")\n",
    "def start_end_():\n",
    "    session = Session(engine)\n",
    "\n",
    "    start = '2017-07-04'\n",
    "    end = '2017-07-11'\n",
    "\n",
    "    start_end_observations = session.query(Measurement.station, Measurement.date, func.min(Measurement.tobs), func.max(Measurement.tobs), func.avg(Measurement.tobs)).\\\n",
    "    filter(Measurement.date >= start).\\\n",
    "    filter(Measurement.date <= end).\\\n",
    "    group_by(Measurement.station).\\\n",
    "    order_by(Measurement.date.desc()).all()\n",
    "    \n",
    "    session.close()\n",
    "\n",
    "    return jsonify(start_end_observations)\n"
   ]
  },
  {
   "cell_type": "code",
   "execution_count": 16,
   "id": "c25899ab",
   "metadata": {},
   "outputs": [],
   "source": [
    "if __name__ == '__main__':\n",
    "    app.run(debug=True)\n",
    "    \n"
   ]
  },
  {
   "cell_type": "code",
   "execution_count": null,
   "id": "34926f03",
   "metadata": {},
   "outputs": [],
   "source": []
  },
  {
   "cell_type": "code",
   "execution_count": null,
   "id": "1ba776b1",
   "metadata": {},
   "outputs": [],
   "source": []
  }
 ],
 "metadata": {
  "kernelspec": {
   "display_name": "Python 3",
   "language": "python",
   "name": "python3"
  },
  "language_info": {
   "codemirror_mode": {
    "name": "ipython",
    "version": 3
   },
   "file_extension": ".py",
   "mimetype": "text/x-python",
   "name": "python",
   "nbconvert_exporter": "python",
   "pygments_lexer": "ipython3",
   "version": "3.7.10"
  }
 },
 "nbformat": 4,
 "nbformat_minor": 5
}
